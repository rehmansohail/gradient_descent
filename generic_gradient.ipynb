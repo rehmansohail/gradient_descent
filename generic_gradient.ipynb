{
 "cells": [
  {
   "cell_type": "code",
   "execution_count": 8,
   "metadata": {},
   "outputs": [],
   "source": [
    "import numpy as np"
   ]
  },
  {
   "cell_type": "code",
   "execution_count": 9,
   "metadata": {},
   "outputs": [
    {
     "name": "stdout",
     "output_type": "stream",
     "text": [
      "(379, 14) (127, 13)\n"
     ]
    }
   ],
   "source": [
    "data_train = np.loadtxt(\"./data/train.csv\", delimiter=',')\n",
    "data_test =np.loadtxt(\"./data/test.csv\", delimiter=',')\n",
    "print(data_train.shape,data_test.shape)"
   ]
  },
  {
   "cell_type": "code",
   "execution_count": 10,
   "metadata": {},
   "outputs": [],
   "source": [
    "def step(data, learning_rate, theta):\n",
    "    n = data.shape[0]\n",
    "    m = data.shape[1] - 1  # Number of features\n",
    "\n",
    "    gradient = np.zeros(m + 1)\n",
    "\n",
    "    for i in range(n):\n",
    "        x = data[i, :-1]  # Features\n",
    "        y = data[i, -1]   # Target\n",
    "\n",
    "        # Compute the predicted value\n",
    "        prediction = np.dot(x, theta[:-1]) + theta[-1]\n",
    "\n",
    "        # Update the gradients\n",
    "        gradient[:-1] += -2 * x * (y - prediction)\n",
    "        gradient[-1] += -2 * (y - prediction)\n",
    "\n",
    "    gradient /= n  # Average the gradients\n",
    "\n",
    "    # Update the parameters (theta)\n",
    "    theta -= learning_rate * gradient\n",
    "\n",
    "    return theta\n",
    "        "
   ]
  },
  {
   "cell_type": "code",
   "execution_count": 11,
   "metadata": {},
   "outputs": [],
   "source": [
    "def cost(data, theta):\n",
    "    n = data.shape[0]\n",
    "    m = data.shape[1] - 1  # Number of features\n",
    "\n",
    "    cost_value = 0\n",
    "\n",
    "    for i in range(n):\n",
    "        x = data[i, :-1]  # Features\n",
    "        y = data[i, -1]   # Target\n",
    "\n",
    "        # Compute the predicted value\n",
    "        prediction = np.dot(x, theta[:-1]) + theta[-1]\n",
    "\n",
    "        # Calculate the cost (squared error)\n",
    "        cost_value += (y - prediction) ** 2\n",
    "\n",
    "    cost_value /= n\n",
    "\n",
    "    return cost_value"
   ]
  },
  {
   "cell_type": "code",
   "execution_count": 12,
   "metadata": {},
   "outputs": [],
   "source": [
    "def gradient_descent(data, learning_rate, iterations):\n",
    "    m = data.shape[1] - 1  # Number of features\n",
    "    theta = np.zeros(m + 1)\n",
    "\n",
    "    for i in range(iterations):\n",
    "        theta = step(data, learning_rate, theta)\n",
    "        # print(f\"Iteration {i}, Cost {cost(data, theta)}\")\n",
    "\n",
    "    return theta"
   ]
  },
  {
   "cell_type": "code",
   "execution_count": 13,
   "metadata": {},
   "outputs": [],
   "source": [
    "def run(data):\n",
    "    learning_rate = 0.1\n",
    "    iterations = 200\n",
    "    #for this training dataset, this is the optimal rate at which i get the coefficients\n",
    "    theta = gradient_descent(data, learning_rate, iterations)\n",
    "    return theta"
   ]
  },
  {
   "cell_type": "code",
   "execution_count": 14,
   "metadata": {},
   "outputs": [],
   "source": [
    "theta = run(data_train)\n",
    "#add a ones column to the end of test data to account for the constant\n",
    "ones_column = np.ones((data_test.shape[0], 1))\n",
    "data_with_ones = np.hstack(( data_test,ones_column))\n",
    "y_predicted = np.dot(data_with_ones,theta)\n",
    "np.savetxt(\"./data/y_predicted.csv\", y_predicted, delimiter=',', fmt='%.8f')\n"
   ]
  }
 ],
 "metadata": {
  "kernelspec": {
   "display_name": "Python 3",
   "language": "python",
   "name": "python3"
  },
  "language_info": {
   "codemirror_mode": {
    "name": "ipython",
    "version": 3
   },
   "file_extension": ".py",
   "mimetype": "text/x-python",
   "name": "python",
   "nbconvert_exporter": "python",
   "pygments_lexer": "ipython3",
   "version": "3.8.5"
  },
  "orig_nbformat": 4
 },
 "nbformat": 4,
 "nbformat_minor": 2
}
